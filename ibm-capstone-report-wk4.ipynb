{
 "cells": [
  {
   "cell_type": "markdown",
   "metadata": {},
   "source": [
    "# ***Capstone: The Battle of Neighborhoods (Week 1)***"
   ]
  },
  {
   "cell_type": "markdown",
   "metadata": {},
   "source": [
    "## Opening a Health Food Store in Mumbai"
   ]
  },
  {
   "cell_type": "markdown",
   "metadata": {},
   "source": [
    "### 1. Introduction"
   ]
  },
  {
   "cell_type": "markdown",
   "metadata": {},
   "source": [
    "Mumbai is the second most populous city in India and the seventh in the world. As per capita income is on the rise so is the peoples need to find better and more healthier options for themselves and their families. Right now this generation may be one of the unhealthiest generations to date, given the sedentary lifestyles, lack of work-life balance, eating street foods and pollution. One way to solve this problem is to help the body recover from within. A health food store aims at delivering products that are organic, free from pesticides, grown locally and no hydrogenated fats and artificial colors, flavors, and preservatives."
   ]
  },
  {
   "cell_type": "markdown",
   "metadata": {},
   "source": [
    "### 2. Data"
   ]
  },
  {
   "cell_type": "markdown",
   "metadata": {},
   "source": [
    "To find a good location for a health food store to flourish we will need the following information:\n",
    "- Foursquare API data for neighborhoods in the city.\n",
    "- Per capita income for each neighborhood\n",
    "- Information on types existing venue clusters"
   ]
  },
  {
   "cell_type": "code",
   "execution_count": null,
   "metadata": {},
   "outputs": [],
   "source": []
  }
 ],
 "metadata": {
  "kernelspec": {
   "display_name": "Python",
   "language": "python",
   "name": "conda-env-python-py"
  },
  "language_info": {
   "codemirror_mode": {
    "name": "ipython",
    "version": 3
   },
   "file_extension": ".py",
   "mimetype": "text/x-python",
   "name": "python",
   "nbconvert_exporter": "python",
   "pygments_lexer": "ipython3",
   "version": "3.6.10"
  }
 },
 "nbformat": 4,
 "nbformat_minor": 4
}
